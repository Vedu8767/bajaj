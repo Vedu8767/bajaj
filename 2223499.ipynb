{
 "cells": [
  {
   "cell_type": "code",
   "execution_count": 1,
   "metadata": {},
   "outputs": [
    {
     "name": "stdout",
     "output_type": "stream",
     "text": [
      "Defaulting to user installation because normal site-packages is not writeable\n",
      "Requirement already satisfied: pandas in c:\\programdata\\anaconda3\\lib\\site-packages (2.0.3)\n",
      "Requirement already satisfied: python-dateutil>=2.8.2 in c:\\programdata\\anaconda3\\lib\\site-packages (from pandas) (2.8.2)\n",
      "Requirement already satisfied: pytz>=2020.1 in c:\\programdata\\anaconda3\\lib\\site-packages (from pandas) (2023.3.post1)\n",
      "Requirement already satisfied: tzdata>=2022.1 in c:\\programdata\\anaconda3\\lib\\site-packages (from pandas) (2023.3)\n",
      "Requirement already satisfied: numpy>=1.21.0 in c:\\programdata\\anaconda3\\lib\\site-packages (from pandas) (1.24.3)\n",
      "Requirement already satisfied: six>=1.5 in c:\\programdata\\anaconda3\\lib\\site-packages (from python-dateutil>=2.8.2->pandas) (1.16.0)\n"
     ]
    }
   ],
   "source": [
    "!pip install pandas"
   ]
  },
  {
   "cell_type": "code",
   "execution_count": 2,
   "metadata": {},
   "outputs": [
    {
     "data": {
      "text/html": [
       "<div>\n",
       "<style scoped>\n",
       "    .dataframe tbody tr th:only-of-type {\n",
       "        vertical-align: middle;\n",
       "    }\n",
       "\n",
       "    .dataframe tbody tr th {\n",
       "        vertical-align: top;\n",
       "    }\n",
       "\n",
       "    .dataframe thead th {\n",
       "        text-align: right;\n",
       "    }\n",
       "</style>\n",
       "<table border=\"1\" class=\"dataframe\">\n",
       "  <thead>\n",
       "    <tr style=\"text-align: right;\">\n",
       "      <th></th>\n",
       "      <th>student_id</th>\n",
       "      <th>absence_start_date</th>\n",
       "      <th>absence_end_date</th>\n",
       "      <th>total_absent_days</th>\n",
       "    </tr>\n",
       "  </thead>\n",
       "  <tbody>\n",
       "    <tr>\n",
       "      <th>1</th>\n",
       "      <td>101</td>\n",
       "      <td>2024-03-09</td>\n",
       "      <td>2024-03-14</td>\n",
       "      <td>4</td>\n",
       "    </tr>\n",
       "    <tr>\n",
       "      <th>3</th>\n",
       "      <td>107</td>\n",
       "      <td>2024-03-20</td>\n",
       "      <td>2024-03-25</td>\n",
       "      <td>5</td>\n",
       "    </tr>\n",
       "    <tr>\n",
       "      <th>4</th>\n",
       "      <td>108</td>\n",
       "      <td>2024-11-02</td>\n",
       "      <td>2024-11-05</td>\n",
       "      <td>4</td>\n",
       "    </tr>\n",
       "  </tbody>\n",
       "</table>\n",
       "</div>"
      ],
      "text/plain": [
       "   student_id absence_start_date absence_end_date  total_absent_days\n",
       "1         101         2024-03-09       2024-03-14                  4\n",
       "3         107         2024-03-20       2024-03-25                  5\n",
       "4         108         2024-11-02       2024-11-05                  4"
      ]
     },
     "execution_count": 2,
     "metadata": {},
     "output_type": "execute_result"
    }
   ],
   "source": [
    "import pandas as pd\n",
    "\n",
    "# Load the dataset\n",
    "file_path = \"C:/Users/S41919/Downloads/Data Engineering/Data Engineering/data - sample.xlsx\"  # Update this if needed\n",
    "attendance_df = pd.read_excel(file_path)\n",
    "\n",
    "# Convert date column to datetime\n",
    "attendance_df['attendance_date'] = pd.to_datetime(attendance_df['attendance_date'])\n",
    "\n",
    "# Sort data by student_id and date\n",
    "attendance_df = attendance_df.sort_values(by=['student_id', 'attendance_date'])\n",
    "\n",
    "def get_latest_absence_streaks(attendance_df):\n",
    "    latest_streaks = []\n",
    "    \n",
    "    for student_id, group in attendance_df.groupby('student_id'):\n",
    "        group = group.reset_index(drop=True)\n",
    "        group['consecutive_group'] = (group['attendance_date'].diff().dt.days != 1).cumsum()\n",
    "        \n",
    "        # Extract only absent records\n",
    "        absences = group[group['status'] == 'Absent']\n",
    "        \n",
    "        # Group consecutive absences\n",
    "        streaks = absences.groupby('consecutive_group').agg(\n",
    "            absence_start_date=('attendance_date', 'first'),\n",
    "            absence_end_date=('attendance_date', 'last'),\n",
    "            total_absent_days=('attendance_date', 'count')\n",
    "        ).reset_index(drop=True)\n",
    "        \n",
    "        streaks['student_id'] = student_id\n",
    "        \n",
    "        # Filter only streaks with more than 3 absences\n",
    "        valid_streaks = streaks[streaks['total_absent_days'] > 3]\n",
    "        \n",
    "        if not valid_streaks.empty:\n",
    "            latest_streaks.append(valid_streaks.iloc[-1])  # Take latest streak\n",
    "    \n",
    "    return pd.DataFrame(latest_streaks)\n",
    "\n",
    "# Get final corrected output\n",
    "final_absence_streaks = get_latest_absence_streaks(attendance_df)[['student_id', 'absence_start_date', 'absence_end_date', 'total_absent_days']]\n",
    "\n",
    "# Display final corrected output\n",
    "final_absence_streaks\n"
   ]
  },
  {
   "cell_type": "code",
   "execution_count": 9,
   "metadata": {},
   "outputs": [
    {
     "name": "stdout",
     "output_type": "stream",
     "text": [
      "+----+--------------+----------------------+--------------------+---------------------+--------------------------+-------------------------------------------------------------------------------------------------------------------------------------+\n",
      "|    |   student_id | absence_start_date   | absence_end_date   |   total_absent_days | email                    | msg                                                                                                                                 |\n",
      "+====+==============+======================+====================+=====================+==========================+=====================================================================================================================================+\n",
      "|  0 |          101 | 01-03-2024           | 04-03-2024         |                   4 | alice_parent@example.com | Dear Parent, your child Alice Johnson was absent from 01-03-2024 to 04-03-2024 for 4 days. Please ensure their attendance improves. |\n",
      "+----+--------------+----------------------+--------------------+---------------------+--------------------------+-------------------------------------------------------------------------------------------------------------------------------------+\n",
      "|  1 |          102 | 02-03-2024           | 05-03-2024         |                   4 | bob_parent@example.com   | Dear Parent, your child Bob Smith was absent from 02-03-2024 to 05-03-2024 for 4 days. Please ensure their attendance improves.     |\n",
      "+----+--------------+----------------------+--------------------+---------------------+--------------------------+-------------------------------------------------------------------------------------------------------------------------------------+\n",
      "|  2 |          103 | 05-03-2024           | 09-03-2024         |                   5 |                          | None                                                                                                                                |\n",
      "+----+--------------+----------------------+--------------------+---------------------+--------------------------+-------------------------------------------------------------------------------------------------------------------------------------+\n"
     ]
    }
   ],
   "source": [
    "import pandas as pd\n",
    "from tabulate import tabulate\n",
    "\n",
    "# Sample data for student absence records\n",
    "data = {\n",
    "    'student_id': [101, 102, 103],\n",
    "    'absence_start_date': ['2024-03-01', '2024-03-02', '2024-03-05'],\n",
    "    'absence_end_date': ['2024-03-04', '2024-03-05', '2024-03-09'],\n",
    "    'total_absent_days': [4, 4, 5],\n",
    "    'student_name': ['Alice Johnson', 'Bob Smith', 'Charlie Brown'],\n",
    "    'email': ['alice_parent@example.com', 'bob_parent@example.com', None]\n",
    "}\n",
    "\n",
    "# Convert the dictionary into a Pandas DataFrame\n",
    "df = pd.DataFrame(data)\n",
    "\n",
    "# Convert dates to \"DD-MM-YYYY\" format\n",
    "df['absence_start_date'] = pd.to_datetime(df['absence_start_date']).dt.strftime('%d-%m-%Y')\n",
    "df['absence_end_date'] = pd.to_datetime(df['absence_end_date']).dt.strftime('%d-%m-%Y')\n",
    "\n",
    "# Generate message column\n",
    "df['msg'] = df.apply(lambda row: (\n",
    "    f\"Dear Parent, your child {row['student_name']} was absent from {row['absence_start_date']} to {row['absence_end_date']} for {row['total_absent_days']} days. \"\n",
    "    f\"Please ensure their attendance improves.\"\n",
    ") if row['email'] else \"None\", axis=1)\n",
    "\n",
    "# Select required columns for final display\n",
    "df = df[['student_id', 'absence_start_date', 'absence_end_date', 'total_absent_days', 'email', 'msg']]\n",
    "\n",
    "# Display the table in a well-formatted manner\n",
    "print(tabulate(df, headers='keys', tablefmt='grid'))\n"
   ]
  },
  {
   "cell_type": "code",
   "execution_count": null,
   "metadata": {},
   "outputs": [],
   "source": []
  }
 ],
 "metadata": {
  "kernelspec": {
   "display_name": "base",
   "language": "python",
   "name": "python3"
  },
  "language_info": {
   "codemirror_mode": {
    "name": "ipython",
    "version": 3
   },
   "file_extension": ".py",
   "mimetype": "text/x-python",
   "name": "python",
   "nbconvert_exporter": "python",
   "pygments_lexer": "ipython3",
   "version": "3.11.5"
  }
 },
 "nbformat": 4,
 "nbformat_minor": 2
}
